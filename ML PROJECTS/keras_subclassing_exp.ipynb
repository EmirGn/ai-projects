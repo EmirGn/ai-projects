{
  "cells": [
    {
      "cell_type": "code",
      "execution_count": 40,
      "metadata": {
        "id": "WRBH1FF4geSs"
      },
      "outputs": [],
      "source": [
        "#Import Libraries\n",
        "\n",
        "import os\n",
        "\n",
        "os.environ[\"TF_CPP_MIN_LOG_LEVEL\"] = \"2\"\n",
        "import tensorflow as tf\n",
        "from tensorflow import keras\n",
        "from tensorflow.keras import layers\n",
        "from tensorflow.keras.datasets import mnist"
      ]
    },
    {
      "cell_type": "code",
      "execution_count": 41,
      "metadata": {
        "id": "kE6tWDoajbuz"
      },
      "outputs": [],
      "source": [
        "#Import Dataset\n",
        "\n",
        "(x_train, y_train), (x_test, y_test) = mnist.load_data()"
      ]
    },
    {
      "cell_type": "code",
      "execution_count": 42,
      "metadata": {
        "id": "gva5-Noyji-v"
      },
      "outputs": [],
      "source": [
        "#Reshape images right for the model\n",
        "\n",
        "x_train = x_train.reshape(-1, 28, 28, 1).astype(\"float32\") / 255\n",
        "x_test = x_test.reshape(-1, 28, 28, 1).astype(\"float32\") / 255"
      ]
    },
    {
      "cell_type": "code",
      "execution_count": 43,
      "metadata": {
        "id": "etdiuW69kCS4"
      },
      "outputs": [],
      "source": [
        "#Create a class for cnn model\n",
        "\n",
        "class CNNBlock(layers.Layer):\n",
        "    def __init__(self, out_channels, kernel_size=3):\n",
        "        super(CNNBlock, self).__init__()\n",
        "        self.conv = layers.Conv2D(out_channels, kernel_size, padding=\"same\")\n",
        "        self.bn = layers.BatchNormalization()\n",
        "\n",
        "    def call(self, input_tensor, training=False):\n",
        "        x = self.conv(input_tensor)\n",
        "        x = self.bn(x, training=training)\n",
        "        x = tf.nn.relu(x)\n",
        "        return x\n"
      ]
    },
    {
      "cell_type": "code",
      "source": [
        "#Try the model without resnet\n",
        "\n",
        "model = keras.Sequential(\n",
        "    [CNNBlock(32), CNNBlock(64), CNNBlock(128), layers.Flatten(), layers.Dense(10),]\n",
        ")"
      ],
      "metadata": {
        "id": "WpVR1_lJtg9t"
      },
      "execution_count": 44,
      "outputs": []
    },
    {
      "cell_type": "code",
      "execution_count": 20,
      "metadata": {
        "id": "9tiIEUHh4YI3"
      },
      "outputs": [],
      "source": [
        "#Create resnet blocks. Resnet --> Create skip connections in the model.\n",
        "\n",
        "class ResBlock(layers.Layer):\n",
        "    def __init__(self, channels):\n",
        "        super(ResBlock, self).__init__()\n",
        "        self.channels = channels\n",
        "        self.cnn1 = CNNBlock(channels[0], 3)\n",
        "        self.cnn2 = CNNBlock(channels[1], 3)\n",
        "        self.cnn3 = CNNBlock(channels[2], 3)\n",
        "        self.pooling = layers.MaxPooling2D()\n",
        "        self.identity_mapping = layers.Conv2D(channels[1], 3, padding=\"same\")\n",
        "\n",
        "    def call(self, input_tensor, training=False):\n",
        "        x = self.cnn1(input_tensor, training=training)\n",
        "        x = self.cnn2(x, training=training)\n",
        "        x = self.cnn3(x + self.identity_mapping(input_tensor), training=training,)\n",
        "        x = self.pooling(x)\n",
        "        return x\n"
      ]
    },
    {
      "cell_type": "code",
      "source": [
        "#Receive parameters for resnet blocks.\n",
        "\n",
        "class ResNet_Like(keras.Model):\n",
        "    def __init__(self, num_classes=10):\n",
        "        super(ResNet_Like, self).__init__()\n",
        "        self.block1 = ResBlock([32, 32, 64])\n",
        "        self.block2 = ResBlock([128, 128, 256])\n",
        "        self.block3 = ResBlock([128, 256, 512])\n",
        "        self.pool = layers.GlobalAveragePooling2D()\n",
        "        self.classifier = layers.Dense(num_classes)\n",
        "\n",
        "    def call(self, input_tensor, training=False):\n",
        "        x = self.block1(input_tensor, training=training)\n",
        "        x = self.block2(x, training=training)\n",
        "        x = self.block3(x, training=training)\n",
        "        x = self.pool(x, training=training)\n",
        "        x = self.classifier(x)\n",
        "        return x\n",
        "\n",
        "    def model(self):\n",
        "        x = keras.Input(shape=(28, 28, 1))\n",
        "        return keras.Model(inputs=[x], outputs=self.call(x))"
      ],
      "metadata": {
        "id": "IMyDfFs9S3eE"
      },
      "execution_count": 45,
      "outputs": []
    },
    {
      "cell_type": "code",
      "source": [
        "model = ResNet_Like().model()\n",
        "base_input = model.layers[0].input\n",
        "base_output = model.layers[2].output\n",
        "output = layers.Dense(10)(layers.Flatten()(base_output))\n",
        "model = keras.Model(base_input, output)"
      ],
      "metadata": {
        "id": "DSx73beYkkRe"
      },
      "execution_count": 46,
      "outputs": []
    },
    {
      "cell_type": "code",
      "source": [
        "#Compile the model. Assign loss, optimizer functions to it.\n",
        "\n",
        "model.compile(\n",
        "    optimizer=keras.optimizers.Adam(),\n",
        "    loss=keras.losses.SparseCategoricalCrossentropy(from_logits=True),\n",
        "    metrics=[\"accuracy\"],\n",
        ")"
      ],
      "metadata": {
        "id": "vk8xwKv8UOTs"
      },
      "execution_count": 48,
      "outputs": []
    },
    {
      "cell_type": "code",
      "source": [
        "#Fit the model and evaluate the model.\n",
        "\n",
        "model.fit(x_train, y_train, batch_size=64, epochs=5, verbose=1)\n",
        "model.evaluate(x_test, y_test, batch_size=64, verbose=2)"
      ],
      "metadata": {
        "colab": {
          "base_uri": "https://localhost:8080/"
        },
        "id": "4gvaq0AKiGf2",
        "outputId": "bebdf75a-94b4-4e1a-ba67-23a8174ffd97"
      },
      "execution_count": 49,
      "outputs": [
        {
          "output_type": "stream",
          "name": "stdout",
          "text": [
            "Epoch 1/5\n",
            "938/938 [==============================] - 18s 18ms/step - loss: 0.1051 - accuracy: 0.9672\n",
            "Epoch 2/5\n",
            "938/938 [==============================] - 17s 18ms/step - loss: 0.0401 - accuracy: 0.9888\n",
            "Epoch 3/5\n",
            "938/938 [==============================] - 17s 18ms/step - loss: 0.0305 - accuracy: 0.9906\n",
            "Epoch 4/5\n",
            "938/938 [==============================] - 17s 18ms/step - loss: 0.0231 - accuracy: 0.9927\n",
            "Epoch 5/5\n",
            "938/938 [==============================] - 17s 18ms/step - loss: 0.0192 - accuracy: 0.9941\n",
            "157/157 - 1s - loss: 0.0344 - accuracy: 0.9900 - 1s/epoch - 7ms/step\n"
          ]
        },
        {
          "output_type": "execute_result",
          "data": {
            "text/plain": [
              "[0.03439999371767044, 0.9900000095367432]"
            ]
          },
          "metadata": {},
          "execution_count": 49
        }
      ]
    },
    {
      "cell_type": "code",
      "source": [],
      "metadata": {
        "id": "LXIwZfEswgXJ"
      },
      "execution_count": null,
      "outputs": []
    }
  ],
  "metadata": {
    "accelerator": "GPU",
    "colab": {
      "provenance": []
    },
    "gpuClass": "standard",
    "kernelspec": {
      "display_name": "Python 3",
      "name": "python3"
    },
    "language_info": {
      "name": "python"
    }
  },
  "nbformat": 4,
  "nbformat_minor": 0
}