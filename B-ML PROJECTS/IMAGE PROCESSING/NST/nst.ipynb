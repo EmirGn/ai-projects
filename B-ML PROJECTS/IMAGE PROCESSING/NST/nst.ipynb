{
  "nbformat": 4,
  "nbformat_minor": 0,
  "metadata": {
    "colab": {
      "provenance": []
    },
    "kernelspec": {
      "name": "python3",
      "display_name": "Python 3"
    },
    "language_info": {
      "name": "python"
    },
    "accelerator": "GPU",
    "gpuClass": "standard"
  },
  "cells": [
    {
      "cell_type": "code",
      "execution_count": 42,
      "metadata": {
        "id": "5QrFWpYqk55s"
      },
      "outputs": [],
      "source": [
        "import torch\n",
        "import torch.nn as nn\n",
        "import torch.optim as optim\n",
        "from PIL import Image\n",
        "import torchvision.transforms as transforms\n",
        "import torchvision.models as models\n",
        "from torchvision.utils import save_image"
      ]
    },
    {
      "cell_type": "code",
      "source": [
        "#Hyperparameters\n",
        "image_size = 356\n",
        "total_steps = 6000\n",
        "learning_rate = 0.001\n",
        "alpha = 0.98\n",
        "beta = 0.02"
      ],
      "metadata": {
        "id": "XN3an6rixy3S"
      },
      "execution_count": 55,
      "outputs": []
    },
    {
      "cell_type": "code",
      "source": [
        "loader = transforms.Compose([\n",
        "    transforms.Resize((image_size, image_size)),\n",
        "    transforms.ToTensor(),\n",
        "])"
      ],
      "metadata": {
        "id": "5HBZF4UFx3qW"
      },
      "execution_count": 44,
      "outputs": []
    },
    {
      "cell_type": "code",
      "source": [
        "device = torch.device(\"cuda\" if torch.cuda.is_available else \"gpu\")\n",
        "model = models.vgg19(pretrained = True)\n",
        "model"
      ],
      "metadata": {
        "id": "xzYVGUy3mUGo"
      },
      "execution_count": null,
      "outputs": []
    },
    {
      "cell_type": "code",
      "source": [
        "class VGG(nn.Module):\n",
        "    def __init__(self):\n",
        "        super(VGG, self).__init__()\n",
        "\n",
        "        self.chosen_features = [\"0\", \"5\", \"10\", \"19\", \"28\"]\n",
        "        self.model = models.vgg19(pretrained = True).features[:29]\n",
        "\n",
        "    def forward(self, x):\n",
        "        features = []\n",
        "        for layer_num, layer in enumerate(self.model):\n",
        "            x = layer(x)\n",
        "\n",
        "            if str(layer_num) in self.chosen_features:\n",
        "                features.append(x)\n",
        "        return features"
      ],
      "metadata": {
        "id": "SrNpK0BKmown"
      },
      "execution_count": 46,
      "outputs": []
    },
    {
      "cell_type": "code",
      "source": [
        "model = VGG().to(device).eval()\n",
        "def load_image(image_name):\n",
        "    image = Image.open(image_name)\n",
        "    image = loader(image).unsqueeze(0)\n",
        "    return image.to(device)"
      ],
      "metadata": {
        "id": "EaRTQ2h3n_zn"
      },
      "execution_count": 60,
      "outputs": []
    },
    {
      "cell_type": "code",
      "source": [
        "class VGG(nn.Module):\n",
        "    def __init__(self):\n",
        "        super(VGG, self).__init__()\n",
        "\n",
        "        self.chosen_features = [\"0\", \"5\", \"10\", \"19\", \"28\"]\n",
        "        self.model = models.vgg19(pretrained = True).features[:29]\n",
        "\n",
        "    def forward(self, x):\n",
        "        features = []\n",
        "        for layer_num, layer in enumerate(self.model):\n",
        "            x = layer(x)\n",
        "\n",
        "            if str(layer_num) in self.chosen_features:\n",
        "                features.append(x)\n",
        "        return features"
      ],
      "metadata": {
        "id": "YaTa0DP8pFcQ"
      },
      "execution_count": 61,
      "outputs": []
    },
    {
      "cell_type": "code",
      "source": [
        "original_img = load_image(\"/content/IMAGES/CRY.jpg\")"
      ],
      "metadata": {
        "id": "Y-Jdl9F6pIU_"
      },
      "execution_count": 62,
      "outputs": []
    },
    {
      "cell_type": "code",
      "source": [
        "generated = original_img.clone().requires_grad_(True)"
      ],
      "metadata": {
        "id": "OXsHr1ktqCOQ"
      },
      "execution_count": 63,
      "outputs": []
    },
    {
      "cell_type": "code",
      "source": [
        "optimizer = optim.Adam([generated], lr = learning_rate)"
      ],
      "metadata": {
        "id": "W7rdxjCyqM02"
      },
      "execution_count": 64,
      "outputs": []
    },
    {
      "cell_type": "code",
      "source": [
        "dots = \"-\"*50\n",
        "while True:\n",
        "    type_img = int(input(f\"Which painter's painting style would you like to transform your painting into (Accept only numbers without '-') \\n {dots} \\n 1- Van Gogh \\n 2- Leonardo Da Vinci \\n 3- Pablo Picasso \\n\"))\n",
        "    if type_img == 1:\n",
        "        !wget -O VANGOGH.jpg https://th.bing.com/th/id/R.484fcbc7078d68106d9e69bebfba553d?rik=KxeNXAWCRjEkbw&pid=ImgRaw&r=0\n",
        "        style_img = load_image(\"/content/IMAGES/VANGOGH.jpeg\")\n",
        "        break\n",
        "\n",
        "    elif type_img == 2:\n",
        "        !wget -O LEONARDO.jpg https://1.bp.blogspot.com/-VVSlaRqBfFY/XnimN6ksdRI/AAAAAAAAF_Q/GSB3boip000o6OiX5mNgNQZBqEdWVkAygCLcBGAsYHQ/s1600/16-54-37-Da_Vinci%2527s_Mona_Lisa_with_original_colors_approximation.jpg\n",
        "        style_img = load_image(\"/content/IMAGES/LEONARDO.jpeg\")\n",
        "        break\n",
        "\n",
        "    elif type_img == 3:\n",
        "        !wget -O PICASSO.jpg https://th.bing.com/th/id/OIP.gzMFhLT6IWde2sN8dUcH9AHaHe?pid=ImgDet&rs=1\n",
        "        style_img = load_image(\"/content/IMAGES/PICASSO.jpeg\")\n",
        "        break\n",
        "\n",
        "    else:\n",
        "        print(f\"Try again later with available NUMBERS \\n {dots} \\n\")\n",
        "        continue"
      ],
      "metadata": {
        "id": "pLmNFa2x04eB"
      },
      "execution_count": null,
      "outputs": []
    },
    {
      "cell_type": "code",
      "source": [
        "for step in range(total_steps):\n",
        "    generated_features = model(generated)\n",
        "    original_img_features = model(original_img)\n",
        "    style_features = model(style_img)\n",
        "\n",
        "    style_loss = original_loss = 0\n",
        "\n",
        "    for gen_feature, orig_feature, style_feature in zip(\n",
        "        generated_features, original_img_features, style_features\n",
        "        ):\n",
        "\n",
        "        batch_size, channel, height, width = gen_feature.shape\n",
        "        original_loss += torch.mean((gen_feature - orig_feature) ** 2)\n",
        "\n",
        "        #Compute Gram Matrix\n",
        "\n",
        "        G = gen_feature.view(channel, height*width).mm(\n",
        "            gen_feature.view(channel, height*width).t()\n",
        "        )\n",
        "\n",
        "        A = style_feature.view(channel, height*width).mm(\n",
        "            style_feature.view(channel, height*width).t()\n",
        "        )\n",
        "\n",
        "        style_loss += torch.mean((G - A) ** 2)\n",
        "\n",
        "    total_loss = alpha * original_loss + beta * style_loss\n",
        "    optimizer.zero_grad()\n",
        "    total_loss.backward()\n",
        "    optimizer.step()\n",
        "\n",
        "    if step % 200 == 0:\n",
        "        print(total_loss)\n",
        "        save_image(generated, \"generated.png\")"
      ],
      "metadata": {
        "colab": {
          "base_uri": "https://localhost:8080/",
          "height": 657
        },
        "id": "cdwLyBgKqowo",
        "outputId": "9bc65663-2f25-4aa5-b44a-a01e5ce55ba1"
      },
      "execution_count": 66,
      "outputs": [
        {
          "output_type": "stream",
          "name": "stdout",
          "text": [
            "tensor(1483128., device='cuda:0', grad_fn=<AddBackward0>)\n",
            "tensor(145120.7188, device='cuda:0', grad_fn=<AddBackward0>)\n",
            "tensor(77870.3281, device='cuda:0', grad_fn=<AddBackward0>)\n",
            "tensor(46068.2031, device='cuda:0', grad_fn=<AddBackward0>)\n",
            "tensor(29235.4023, device='cuda:0', grad_fn=<AddBackward0>)\n",
            "tensor(20773.2227, device='cuda:0', grad_fn=<AddBackward0>)\n",
            "tensor(16545.8965, device='cuda:0', grad_fn=<AddBackward0>)\n",
            "tensor(14193.5869, device='cuda:0', grad_fn=<AddBackward0>)\n",
            "tensor(12639.7705, device='cuda:0', grad_fn=<AddBackward0>)\n",
            "tensor(11483.7900, device='cuda:0', grad_fn=<AddBackward0>)\n",
            "tensor(10557.2920, device='cuda:0', grad_fn=<AddBackward0>)\n",
            "tensor(9791.4375, device='cuda:0', grad_fn=<AddBackward0>)\n",
            "tensor(9138.9941, device='cuda:0', grad_fn=<AddBackward0>)\n",
            "tensor(8574.1133, device='cuda:0', grad_fn=<AddBackward0>)\n"
          ]
        },
        {
          "output_type": "error",
          "ename": "KeyboardInterrupt",
          "evalue": "ignored",
          "traceback": [
            "\u001b[0;31m---------------------------------------------------------------------------\u001b[0m",
            "\u001b[0;31mKeyboardInterrupt\u001b[0m                         Traceback (most recent call last)",
            "\u001b[0;32m<ipython-input-66-9e1cd295279b>\u001b[0m in \u001b[0;36m<module>\u001b[0;34m\u001b[0m\n\u001b[1;32m     27\u001b[0m     \u001b[0mtotal_loss\u001b[0m \u001b[0;34m=\u001b[0m \u001b[0malpha\u001b[0m \u001b[0;34m*\u001b[0m \u001b[0moriginal_loss\u001b[0m \u001b[0;34m+\u001b[0m \u001b[0mbeta\u001b[0m \u001b[0;34m*\u001b[0m \u001b[0mstyle_loss\u001b[0m\u001b[0;34m\u001b[0m\u001b[0;34m\u001b[0m\u001b[0m\n\u001b[1;32m     28\u001b[0m     \u001b[0moptimizer\u001b[0m\u001b[0;34m.\u001b[0m\u001b[0mzero_grad\u001b[0m\u001b[0;34m(\u001b[0m\u001b[0;34m)\u001b[0m\u001b[0;34m\u001b[0m\u001b[0;34m\u001b[0m\u001b[0m\n\u001b[0;32m---> 29\u001b[0;31m     \u001b[0mtotal_loss\u001b[0m\u001b[0;34m.\u001b[0m\u001b[0mbackward\u001b[0m\u001b[0;34m(\u001b[0m\u001b[0;34m)\u001b[0m\u001b[0;34m\u001b[0m\u001b[0;34m\u001b[0m\u001b[0m\n\u001b[0m\u001b[1;32m     30\u001b[0m     \u001b[0moptimizer\u001b[0m\u001b[0;34m.\u001b[0m\u001b[0mstep\u001b[0m\u001b[0;34m(\u001b[0m\u001b[0;34m)\u001b[0m\u001b[0;34m\u001b[0m\u001b[0;34m\u001b[0m\u001b[0m\n\u001b[1;32m     31\u001b[0m \u001b[0;34m\u001b[0m\u001b[0m\n",
            "\u001b[0;32m/usr/local/lib/python3.9/dist-packages/torch/_tensor.py\u001b[0m in \u001b[0;36mbackward\u001b[0;34m(self, gradient, retain_graph, create_graph, inputs)\u001b[0m\n\u001b[1;32m    486\u001b[0m                 \u001b[0minputs\u001b[0m\u001b[0;34m=\u001b[0m\u001b[0minputs\u001b[0m\u001b[0;34m,\u001b[0m\u001b[0;34m\u001b[0m\u001b[0;34m\u001b[0m\u001b[0m\n\u001b[1;32m    487\u001b[0m             )\n\u001b[0;32m--> 488\u001b[0;31m         torch.autograd.backward(\n\u001b[0m\u001b[1;32m    489\u001b[0m             \u001b[0mself\u001b[0m\u001b[0;34m,\u001b[0m \u001b[0mgradient\u001b[0m\u001b[0;34m,\u001b[0m \u001b[0mretain_graph\u001b[0m\u001b[0;34m,\u001b[0m \u001b[0mcreate_graph\u001b[0m\u001b[0;34m,\u001b[0m \u001b[0minputs\u001b[0m\u001b[0;34m=\u001b[0m\u001b[0minputs\u001b[0m\u001b[0;34m\u001b[0m\u001b[0;34m\u001b[0m\u001b[0m\n\u001b[1;32m    490\u001b[0m         )\n",
            "\u001b[0;32m/usr/local/lib/python3.9/dist-packages/torch/autograd/__init__.py\u001b[0m in \u001b[0;36mbackward\u001b[0;34m(tensors, grad_tensors, retain_graph, create_graph, grad_variables, inputs)\u001b[0m\n\u001b[1;32m    195\u001b[0m     \u001b[0;31m# some Python versions print out the first line of a multi-line function\u001b[0m\u001b[0;34m\u001b[0m\u001b[0;34m\u001b[0m\u001b[0m\n\u001b[1;32m    196\u001b[0m     \u001b[0;31m# calls in the traceback and some print out the last line\u001b[0m\u001b[0;34m\u001b[0m\u001b[0;34m\u001b[0m\u001b[0m\n\u001b[0;32m--> 197\u001b[0;31m     Variable._execution_engine.run_backward(  # Calls into the C++ engine to run the backward pass\n\u001b[0m\u001b[1;32m    198\u001b[0m         \u001b[0mtensors\u001b[0m\u001b[0;34m,\u001b[0m \u001b[0mgrad_tensors_\u001b[0m\u001b[0;34m,\u001b[0m \u001b[0mretain_graph\u001b[0m\u001b[0;34m,\u001b[0m \u001b[0mcreate_graph\u001b[0m\u001b[0;34m,\u001b[0m \u001b[0minputs\u001b[0m\u001b[0;34m,\u001b[0m\u001b[0;34m\u001b[0m\u001b[0;34m\u001b[0m\u001b[0m\n\u001b[1;32m    199\u001b[0m         allow_unreachable=True, accumulate_grad=True)  # Calls into the C++ engine to run the backward pass\n",
            "\u001b[0;31mKeyboardInterrupt\u001b[0m: "
          ]
        }
      ]
    }
  ]
}